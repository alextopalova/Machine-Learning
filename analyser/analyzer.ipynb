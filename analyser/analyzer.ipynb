{
  "nbformat": 4,
  "nbformat_minor": 0,
  "metadata": {
    "colab": {
      "name": "Analyzer",
      "provenance": [],
      "collapsed_sections": []
    },
    "kernelspec": {
      "name": "python3",
      "display_name": "Python 3"
    },
    "language_info": {
      "name": "python"
    }
  },
  "cells": [
    {
      "cell_type": "code",
      "execution_count": null,
      "metadata": {
        "id": "VYOgdg0vXdCy"
      },
      "outputs": [],
      "source": [
        "from matplotlib.pyplot import axis\n",
        "import pandas as pd"
      ]
    },
    {
      "cell_type": "code",
      "source": [
        "def round_to_two(value):\n",
        "    return round(value,2)\n",
        "\n",
        "def rows_count(df):\n",
        "    return df.shape[0]\n",
        "\n",
        "def percent_out_of(x,y):\n",
        "  return round_to_two(x*100/y)"
      ],
      "metadata": {
        "id": "u5zSy4D5XiQC"
      },
      "execution_count": 13,
      "outputs": []
    },
    {
      "cell_type": "code",
      "source": [
        "df = pd.read_csv(\"./adult.data.csv\")"
      ],
      "metadata": {
        "id": "7EBunQM6XpgN"
      },
      "execution_count": 4,
      "outputs": []
    },
    {
      "cell_type": "code",
      "source": [
        "all = rows_count(df)"
      ],
      "metadata": {
        "id": "lusviKF-dfiC"
      },
      "execution_count": 9,
      "outputs": []
    },
    {
      "cell_type": "code",
      "source": [
        "race_count = df['race'].value_counts()"
      ],
      "metadata": {
        "id": "YxPqio5zYh6U"
      },
      "execution_count": 5,
      "outputs": []
    },
    {
      "cell_type": "code",
      "source": [
        "average_age_men = round_to_two(df.loc[df['sex'] == 'Male', 'age'].mean())"
      ],
      "metadata": {
        "id": "csujkhAKYko6"
      },
      "execution_count": 6,
      "outputs": []
    },
    {
      "cell_type": "code",
      "source": [
        "percentage_bachelors = df.loc[df['education'] == 'Bachelors', 'education'].count() / all\n",
        "percentage_bachelors = round_to_two(percentage_bachelors*100)"
      ],
      "metadata": {
        "id": "iqvz_MA2Yqfz"
      },
      "execution_count": 10,
      "outputs": []
    },
    {
      "cell_type": "code",
      "source": [
        "above_50k = df.loc[df['salary'] == '>50K']"
      ],
      "metadata": {
        "id": "nsaCfRc_dH-y"
      },
      "execution_count": 8,
      "outputs": []
    },
    {
      "cell_type": "code",
      "source": [
        "higher_education = df[df['education'].isin(['Masters','Bachelors','Doctorate'])]\n",
        "higher_education_50 = higher_education.loc[higher_education['salary'] == '>50K']\n",
        "higher_education_50 = rows_count(higher_education_50)\n",
        "higher_education = rows_count(higher_education)\n",
        "   \n",
        "higher_education_rich = round_to_two(higher_education_50*100 / higher_education)\n",
        "lower_education_rich = round_to_two((rows_count(above_50k)-higher_education_50)*100/(all-higher_education))"
      ],
      "metadata": {
        "id": "Mr4DKmbVY3-d"
      },
      "execution_count": 11,
      "outputs": []
    },
    {
      "cell_type": "code",
      "source": [
        "min_work_hours = df.min()['hours-per-week']"
      ],
      "metadata": {
        "id": "PdqQg4WzZCLB"
      },
      "execution_count": 12,
      "outputs": []
    },
    {
      "cell_type": "code",
      "source": [
        "num_min_workers = df[df['hours-per-week'] == min_work_hours]\n",
        "rich_percentage = rows_count(num_min_workers.loc[num_min_workers['salary'] == '>50K'])*100/rows_count(num_min_workers)"
      ],
      "metadata": {
        "id": "OUmdRcuEZsd3"
      },
      "execution_count": 14,
      "outputs": []
    },
    {
      "cell_type": "code",
      "source": [
        "country_50 = above_50k['native-country'].value_counts().sort_index(0)\n",
        "country = df['native-country'].value_counts().sort_index(0)\n",
        "newest = pd.DataFrame(pd.concat([country_50,country], axis=1))\n",
        "newest.columns = ['>50','all']\n",
        "newest['avg'] = round_to_two(newest['>50']*100/newest['all'])\n",
        "newest.sort_values('avg', ascending=False)\n",
        "highest_earning_country_percentage = newest['avg'].max()\n",
        "highest_earning_country = newest.index[newest['avg'] == highest_earning_country_percentage].to_list()[0]"
      ],
      "metadata": {
        "id": "kvOfxzEnZxOz",
        "colab": {
          "base_uri": "https://localhost:8080/"
        },
        "outputId": "10b88b07-27a8-4f47-e031-e389f9209646"
      },
      "execution_count": 15,
      "outputs": [
        {
          "output_type": "stream",
          "name": "stderr",
          "text": [
            "/usr/local/lib/python3.7/dist-packages/ipykernel_launcher.py:1: FutureWarning: In a future version of pandas all arguments of Series.sort_index will be keyword-only\n",
            "  \"\"\"Entry point for launching an IPython kernel.\n",
            "/usr/local/lib/python3.7/dist-packages/ipykernel_launcher.py:2: FutureWarning: In a future version of pandas all arguments of Series.sort_index will be keyword-only\n",
            "  \n"
          ]
        }
      ]
    },
    {
      "cell_type": "code",
      "source": [
        "temp = above_50k[above_50k['native-country'] == 'India']\n",
        "top_IN_occupation = temp['occupation'].value_counts(normalize=True, sort=True).first_valid_index()"
      ],
      "metadata": {
        "id": "SVa_NLGyZ99V"
      },
      "execution_count": 16,
      "outputs": []
    },
    {
      "cell_type": "code",
      "source": [
        "print(\"Number of each race:\\n\", race_count) \n",
        "print(\"Average age of men:\", average_age_men)\n",
        "print(f\"Percentage with Bachelors degrees: {percentage_bachelors}%\")\n",
        "print(f\"Percentage with higher education that earn >50K: {higher_education_rich}%\")\n",
        "print(f\"Percentage without higher education that earn >50K: {lower_education_rich}%\")\n",
        "print(f\"Min work time: {min_work_hours} hours/week\")\n",
        "print(f\"Percentage of rich among those who work fewest hours: {rich_percentage}%\")\n",
        "print(\"Country with highest percentage of rich:\", highest_earning_country)\n",
        "print(f\"Highest percentage of rich people in country: {highest_earning_country_percentage}%\")\n",
        "print(\"Top occupations in India:\", top_IN_occupation)"
      ],
      "metadata": {
        "id": "rLvGhQQ4aWSc",
        "colab": {
          "base_uri": "https://localhost:8080/"
        },
        "outputId": "77635b65-99ae-4b6f-9416-03e924333356"
      },
      "execution_count": 17,
      "outputs": [
        {
          "output_type": "stream",
          "name": "stdout",
          "text": [
            "Number of each race:\n",
            " White                 27816\n",
            "Black                  3124\n",
            "Asian-Pac-Islander     1039\n",
            "Amer-Indian-Eskimo      311\n",
            "Other                   271\n",
            "Name: race, dtype: int64\n",
            "Average age of men: 39.43\n",
            "Percentage with Bachelors degrees: 16.45%\n",
            "Percentage with higher education that earn >50K: 46.54%\n",
            "Percentage without higher education that earn >50K: 17.37%\n",
            "Min work time: 1 hours/week\n",
            "Percentage of rich among those who work fewest hours: 10.0%\n",
            "Country with highest percentage of rich: Iran\n",
            "Highest percentage of rich people in country: 41.86%\n",
            "Top occupations in India: Prof-specialty\n"
          ]
        }
      ]
    }
  ]
}